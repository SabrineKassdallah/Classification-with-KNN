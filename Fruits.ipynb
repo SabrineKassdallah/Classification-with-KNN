{
  "cells": [
    {
      "metadata": {
        "collapsed": true
      },
      "cell_type": "markdown",
      "source": "# Fruits classification with KNN"
    },
    {
      "metadata": {},
      "cell_type": "markdown",
      "source": "## import dataset"
    },
    {
      "metadata": {
        "trusted": true
      },
      "cell_type": "code",
      "source": "import pandas as pd\ndata = pd.read_csv(\"data/Fruits.txt\", sep='\\t')\ndata.head(10)",
      "execution_count": 1,
      "outputs": [
        {
          "output_type": "execute_result",
          "execution_count": 1,
          "data": {
            "text/html": "<div>\n<style scoped>\n    .dataframe tbody tr th:only-of-type {\n        vertical-align: middle;\n    }\n\n    .dataframe tbody tr th {\n        vertical-align: top;\n    }\n\n    .dataframe thead th {\n        text-align: right;\n    }\n</style>\n<table border=\"1\" class=\"dataframe\">\n  <thead>\n    <tr style=\"text-align: right;\">\n      <th></th>\n      <th>fruit_label</th>\n      <th>fruit_name</th>\n      <th>fruit_subtype</th>\n      <th>mass</th>\n      <th>width</th>\n      <th>height</th>\n      <th>color_score</th>\n    </tr>\n  </thead>\n  <tbody>\n    <tr>\n      <th>0</th>\n      <td>1</td>\n      <td>apple</td>\n      <td>granny_smith</td>\n      <td>192</td>\n      <td>8.4</td>\n      <td>7.3</td>\n      <td>0.55</td>\n    </tr>\n    <tr>\n      <th>1</th>\n      <td>1</td>\n      <td>apple</td>\n      <td>granny_smith</td>\n      <td>180</td>\n      <td>8.0</td>\n      <td>6.8</td>\n      <td>0.59</td>\n    </tr>\n    <tr>\n      <th>2</th>\n      <td>1</td>\n      <td>apple</td>\n      <td>granny_smith</td>\n      <td>176</td>\n      <td>7.4</td>\n      <td>7.2</td>\n      <td>0.60</td>\n    </tr>\n    <tr>\n      <th>3</th>\n      <td>2</td>\n      <td>mandarin</td>\n      <td>mandarin</td>\n      <td>86</td>\n      <td>6.2</td>\n      <td>4.7</td>\n      <td>0.80</td>\n    </tr>\n    <tr>\n      <th>4</th>\n      <td>2</td>\n      <td>mandarin</td>\n      <td>mandarin</td>\n      <td>84</td>\n      <td>6.0</td>\n      <td>4.6</td>\n      <td>0.79</td>\n    </tr>\n    <tr>\n      <th>5</th>\n      <td>2</td>\n      <td>mandarin</td>\n      <td>mandarin</td>\n      <td>80</td>\n      <td>5.8</td>\n      <td>4.3</td>\n      <td>0.77</td>\n    </tr>\n    <tr>\n      <th>6</th>\n      <td>2</td>\n      <td>mandarin</td>\n      <td>mandarin</td>\n      <td>80</td>\n      <td>5.9</td>\n      <td>4.3</td>\n      <td>0.81</td>\n    </tr>\n    <tr>\n      <th>7</th>\n      <td>2</td>\n      <td>mandarin</td>\n      <td>mandarin</td>\n      <td>76</td>\n      <td>5.8</td>\n      <td>4.0</td>\n      <td>0.81</td>\n    </tr>\n    <tr>\n      <th>8</th>\n      <td>1</td>\n      <td>apple</td>\n      <td>braeburn</td>\n      <td>178</td>\n      <td>7.1</td>\n      <td>7.8</td>\n      <td>0.92</td>\n    </tr>\n    <tr>\n      <th>9</th>\n      <td>1</td>\n      <td>apple</td>\n      <td>braeburn</td>\n      <td>172</td>\n      <td>7.4</td>\n      <td>7.0</td>\n      <td>0.89</td>\n    </tr>\n  </tbody>\n</table>\n</div>",
            "text/plain": "   fruit_label fruit_name fruit_subtype  mass  width  height  color_score\n0            1      apple  granny_smith   192    8.4     7.3         0.55\n1            1      apple  granny_smith   180    8.0     6.8         0.59\n2            1      apple  granny_smith   176    7.4     7.2         0.60\n3            2   mandarin      mandarin    86    6.2     4.7         0.80\n4            2   mandarin      mandarin    84    6.0     4.6         0.79\n5            2   mandarin      mandarin    80    5.8     4.3         0.77\n6            2   mandarin      mandarin    80    5.9     4.3         0.81\n7            2   mandarin      mandarin    76    5.8     4.0         0.81\n8            1      apple      braeburn   178    7.1     7.8         0.92\n9            1      apple      braeburn   172    7.4     7.0         0.89"
          },
          "metadata": {}
        }
      ]
    },
    {
      "metadata": {
        "trusted": true
      },
      "cell_type": "code",
      "source": "data.tail(5)",
      "execution_count": 2,
      "outputs": [
        {
          "output_type": "execute_result",
          "execution_count": 2,
          "data": {
            "text/html": "<div>\n<style scoped>\n    .dataframe tbody tr th:only-of-type {\n        vertical-align: middle;\n    }\n\n    .dataframe tbody tr th {\n        vertical-align: top;\n    }\n\n    .dataframe thead th {\n        text-align: right;\n    }\n</style>\n<table border=\"1\" class=\"dataframe\">\n  <thead>\n    <tr style=\"text-align: right;\">\n      <th></th>\n      <th>fruit_label</th>\n      <th>fruit_name</th>\n      <th>fruit_subtype</th>\n      <th>mass</th>\n      <th>width</th>\n      <th>height</th>\n      <th>color_score</th>\n    </tr>\n  </thead>\n  <tbody>\n    <tr>\n      <th>54</th>\n      <td>4</td>\n      <td>lemon</td>\n      <td>unknown</td>\n      <td>116</td>\n      <td>6.1</td>\n      <td>8.5</td>\n      <td>0.71</td>\n    </tr>\n    <tr>\n      <th>55</th>\n      <td>4</td>\n      <td>lemon</td>\n      <td>unknown</td>\n      <td>116</td>\n      <td>6.3</td>\n      <td>7.7</td>\n      <td>0.72</td>\n    </tr>\n    <tr>\n      <th>56</th>\n      <td>4</td>\n      <td>lemon</td>\n      <td>unknown</td>\n      <td>116</td>\n      <td>5.9</td>\n      <td>8.1</td>\n      <td>0.73</td>\n    </tr>\n    <tr>\n      <th>57</th>\n      <td>4</td>\n      <td>lemon</td>\n      <td>unknown</td>\n      <td>152</td>\n      <td>6.5</td>\n      <td>8.5</td>\n      <td>0.72</td>\n    </tr>\n    <tr>\n      <th>58</th>\n      <td>4</td>\n      <td>lemon</td>\n      <td>unknown</td>\n      <td>118</td>\n      <td>6.1</td>\n      <td>8.1</td>\n      <td>0.70</td>\n    </tr>\n  </tbody>\n</table>\n</div>",
            "text/plain": "    fruit_label fruit_name fruit_subtype  mass  width  height  color_score\n54            4      lemon       unknown   116    6.1     8.5         0.71\n55            4      lemon       unknown   116    6.3     7.7         0.72\n56            4      lemon       unknown   116    5.9     8.1         0.73\n57            4      lemon       unknown   152    6.5     8.5         0.72\n58            4      lemon       unknown   118    6.1     8.1         0.70"
          },
          "metadata": {}
        }
      ]
    },
    {
      "metadata": {},
      "cell_type": "markdown",
      "source": "## Data info"
    },
    {
      "metadata": {
        "trusted": true
      },
      "cell_type": "code",
      "source": "data.info()\ndata.describe()",
      "execution_count": 4,
      "outputs": [
        {
          "output_type": "stream",
          "text": "<class 'pandas.core.frame.DataFrame'>\nRangeIndex: 59 entries, 0 to 58\nData columns (total 7 columns):\nfruit_label      59 non-null int64\nfruit_name       59 non-null object\nfruit_subtype    59 non-null object\nmass             59 non-null int64\nwidth            59 non-null float64\nheight           59 non-null float64\ncolor_score      59 non-null float64\ndtypes: float64(3), int64(2), object(2)\nmemory usage: 3.3+ KB\n",
          "name": "stdout"
        },
        {
          "output_type": "execute_result",
          "execution_count": 4,
          "data": {
            "text/html": "<div>\n<style scoped>\n    .dataframe tbody tr th:only-of-type {\n        vertical-align: middle;\n    }\n\n    .dataframe tbody tr th {\n        vertical-align: top;\n    }\n\n    .dataframe thead th {\n        text-align: right;\n    }\n</style>\n<table border=\"1\" class=\"dataframe\">\n  <thead>\n    <tr style=\"text-align: right;\">\n      <th></th>\n      <th>fruit_label</th>\n      <th>mass</th>\n      <th>width</th>\n      <th>height</th>\n      <th>color_score</th>\n    </tr>\n  </thead>\n  <tbody>\n    <tr>\n      <th>count</th>\n      <td>59.000000</td>\n      <td>59.000000</td>\n      <td>59.000000</td>\n      <td>59.000000</td>\n      <td>59.000000</td>\n    </tr>\n    <tr>\n      <th>mean</th>\n      <td>2.542373</td>\n      <td>163.118644</td>\n      <td>7.105085</td>\n      <td>7.693220</td>\n      <td>0.762881</td>\n    </tr>\n    <tr>\n      <th>std</th>\n      <td>1.208048</td>\n      <td>55.018832</td>\n      <td>0.816938</td>\n      <td>1.361017</td>\n      <td>0.076857</td>\n    </tr>\n    <tr>\n      <th>min</th>\n      <td>1.000000</td>\n      <td>76.000000</td>\n      <td>5.800000</td>\n      <td>4.000000</td>\n      <td>0.550000</td>\n    </tr>\n    <tr>\n      <th>25%</th>\n      <td>1.000000</td>\n      <td>140.000000</td>\n      <td>6.600000</td>\n      <td>7.200000</td>\n      <td>0.720000</td>\n    </tr>\n    <tr>\n      <th>50%</th>\n      <td>3.000000</td>\n      <td>158.000000</td>\n      <td>7.200000</td>\n      <td>7.600000</td>\n      <td>0.750000</td>\n    </tr>\n    <tr>\n      <th>75%</th>\n      <td>4.000000</td>\n      <td>177.000000</td>\n      <td>7.500000</td>\n      <td>8.200000</td>\n      <td>0.810000</td>\n    </tr>\n    <tr>\n      <th>max</th>\n      <td>4.000000</td>\n      <td>362.000000</td>\n      <td>9.600000</td>\n      <td>10.500000</td>\n      <td>0.930000</td>\n    </tr>\n  </tbody>\n</table>\n</div>",
            "text/plain": "       fruit_label        mass      width     height  color_score\ncount    59.000000   59.000000  59.000000  59.000000    59.000000\nmean      2.542373  163.118644   7.105085   7.693220     0.762881\nstd       1.208048   55.018832   0.816938   1.361017     0.076857\nmin       1.000000   76.000000   5.800000   4.000000     0.550000\n25%       1.000000  140.000000   6.600000   7.200000     0.720000\n50%       3.000000  158.000000   7.200000   7.600000     0.750000\n75%       4.000000  177.000000   7.500000   8.200000     0.810000\nmax       4.000000  362.000000   9.600000  10.500000     0.930000"
          },
          "metadata": {}
        }
      ]
    },
    {
      "metadata": {
        "trusted": true
      },
      "cell_type": "code",
      "source": "data['fruit_name'].describe()",
      "execution_count": 5,
      "outputs": [
        {
          "output_type": "execute_result",
          "execution_count": 5,
          "data": {
            "text/plain": "count        59\nunique        4\ntop       apple\nfreq         19\nName: fruit_name, dtype: object"
          },
          "metadata": {}
        }
      ]
    },
    {
      "metadata": {
        "trusted": true
      },
      "cell_type": "code",
      "source": "data.isnull().sum()",
      "execution_count": 6,
      "outputs": [
        {
          "output_type": "execute_result",
          "execution_count": 6,
          "data": {
            "text/plain": "fruit_label      0\nfruit_name       0\nfruit_subtype    0\nmass             0\nwidth            0\nheight           0\ncolor_score      0\ndtype: int64"
          },
          "metadata": {}
        }
      ]
    },
    {
      "metadata": {},
      "cell_type": "markdown",
      "source": "## Data Visualization"
    },
    {
      "metadata": {
        "trusted": true
      },
      "cell_type": "code",
      "source": "import matplotlib.pyplot as plt",
      "execution_count": 7,
      "outputs": []
    },
    {
      "metadata": {
        "trusted": true
      },
      "cell_type": "code",
      "source": "import seaborn as sns\nsns.scatterplot(x=\"height\", y =\"width\", hue=\"fruit_name\", data=data)",
      "execution_count": 10,
      "outputs": [
        {
          "output_type": "execute_result",
          "execution_count": 10,
          "data": {
            "text/plain": "<matplotlib.axes._subplots.AxesSubplot at 0x7fcbbed36be0>"
          },
          "metadata": {}
        },
        {
          "output_type": "display_data",
          "data": {
            "image/png": "[encoded data removed]",
            "text/plain": "<Figure size 432x288 with 1 Axes>"
          },
          "metadata": {
            "needs_background": "light"
          }
        }
      ]
    },
    {
      "metadata": {},
      "cell_type": "markdown",
      "source": "## Feature selection"
    },
    {
      "metadata": {
        "trusted": true
      },
      "cell_type": "code",
      "source": "x=data[[\"mass\",\"width\",\"height\"]]\ny=data[\"fruit_label\"]",
      "execution_count": 11,
      "outputs": []
    },
    {
      "metadata": {},
      "cell_type": "markdown",
      "source": "## Train test split"
    },
    {
      "metadata": {
        "trusted": true
      },
      "cell_type": "code",
      "source": "from sklearn.model_selection import train_test_split\n\nx_train, x_test, y_train, y_test=train_test_split(x,y, test_size=0.25, random_state=30)",
      "execution_count": 13,
      "outputs": []
    },
    {
      "metadata": {},
      "cell_type": "markdown",
      "source": "## Model training"
    },
    {
      "metadata": {
        "trusted": true
      },
      "cell_type": "code",
      "source": "from sklearn.neighbors import KNeighborsClassifier\nknn = KNeighborsClassifier(n_neighbors = 5)\nknn.fit(x_train,y_train)",
      "execution_count": 14,
      "outputs": [
        {
          "output_type": "execute_result",
          "execution_count": 14,
          "data": {
            "text/plain": "KNeighborsClassifier(algorithm='auto', leaf_size=30, metric='minkowski',\n           metric_params=None, n_jobs=None, n_neighbors=5, p=2,\n           weights='uniform')"
          },
          "metadata": {}
        }
      ]
    },
    {
      "metadata": {},
      "cell_type": "markdown",
      "source": "## Testing"
    },
    {
      "metadata": {
        "trusted": true
      },
      "cell_type": "code",
      "source": "target_fruits_name = dict(zip(data.fruit_label.unique(), data.fruit_name.unique()))\ntarget_fruits_name",
      "execution_count": 16,
      "outputs": [
        {
          "output_type": "execute_result",
          "execution_count": 16,
          "data": {
            "text/plain": "{1: 'apple', 2: 'mandarin', 3: 'orange', 4: 'lemon'}"
          },
          "metadata": {}
        }
      ]
    },
    {
      "metadata": {
        "trusted": true
      },
      "cell_type": "code",
      "source": "predicted = knn.predict(x_test)\nprint(predicted)\nfor p in predicted:\n    print(target_fruits_name[p])",
      "execution_count": 19,
      "outputs": [
        {
          "output_type": "stream",
          "text": "[3 1 1 3 4 3 3 3 3 3 3 3 3 2 4]\norange\napple\napple\norange\nlemon\norange\norange\norange\norange\norange\norange\norange\norange\nmandarin\nlemon\n",
          "name": "stdout"
        }
      ]
    },
    {
      "metadata": {
        "trusted": true
      },
      "cell_type": "code",
      "source": "knn.score(x_test,y_test)",
      "execution_count": 20,
      "outputs": [
        {
          "output_type": "execute_result",
          "execution_count": 20,
          "data": {
            "text/plain": "0.4666666666666667"
          },
          "metadata": {}
        }
      ]
    },
    {
      "metadata": {},
      "cell_type": "markdown",
      "source": "## change K value"
    },
    {
      "metadata": {
        "trusted": true
      },
      "cell_type": "code",
      "source": "knn = KNeighborsClassifier(n_neighbors = 10)\nknn.fit(x_train,y_train)\nknn.score(x_test,y_test)",
      "execution_count": 21,
      "outputs": [
        {
          "output_type": "execute_result",
          "execution_count": 21,
          "data": {
            "text/plain": "0.5333333333333333"
          },
          "metadata": {}
        }
      ]
    },
    {
      "metadata": {
        "trusted": true
      },
      "cell_type": "code",
      "source": "knn = KNeighborsClassifier(n_neighbors = 2)\nknn.fit(x_train,y_train)\nknn.score(x_test,y_test)",
      "execution_count": 22,
      "outputs": [
        {
          "output_type": "execute_result",
          "execution_count": 22,
          "data": {
            "text/plain": "0.7333333333333333"
          },
          "metadata": {}
        }
      ]
    },
    {
      "metadata": {
        "trusted": true
      },
      "cell_type": "code",
      "source": "fruit_prediction=knn.predict([[25,4.9,6]])\nprint(fruit_prediction)",
      "execution_count": 27,
      "outputs": [
        {
          "output_type": "stream",
          "text": "[2]\n",
          "name": "stdout"
        }
      ]
    },
    {
      "metadata": {
        "trusted": true
      },
      "cell_type": "code",
      "source": "print(target_fruits_name[fruit_prediction[0]])",
      "execution_count": 28,
      "outputs": [
        {
          "output_type": "stream",
          "text": "mandarin\n",
          "name": "stdout"
        }
      ]
    },
    {
      "metadata": {
        "trusted": true
      },
      "cell_type": "code",
      "source": "fruit_prediction=knn.predict([[250,7,6]])\nprint(fruit_prediction)",
      "execution_count": 29,
      "outputs": [
        {
          "output_type": "stream",
          "text": "[3]\n",
          "name": "stdout"
        }
      ]
    },
    {
      "metadata": {
        "trusted": true
      },
      "cell_type": "code",
      "source": "print(target_fruits_name[fruit_prediction[0]])",
      "execution_count": 30,
      "outputs": [
        {
          "output_type": "stream",
          "text": "orange\n",
          "name": "stdout"
        }
      ]
    },
    {
      "metadata": {
        "trusted": true
      },
      "cell_type": "code",
      "source": "",
      "execution_count": null,
      "outputs": []
    }
  ],
  "metadata": {
    "kernelspec": {
      "name": "python36",
      "display_name": "Python 3.6",
      "language": "python"
    },
    "language_info": {
      "mimetype": "text/x-python",
      "nbconvert_exporter": "python",
      "name": "python",
      "pygments_lexer": "ipython3",
      "version": "3.6.6",
      "file_extension": ".py",
      "codemirror_mode": {
        "version": 3,
        "name": "ipython"
      }
    }
  },
  "nbformat": 4,
  "nbformat_minor": 2
}